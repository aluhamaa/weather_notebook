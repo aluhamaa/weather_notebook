{
 "cells": [
  {
   "cell_type": "markdown",
   "metadata": {},
   "source": [
    "# Weather data notebook for dummies \n",
    "\n",
    "This is a zero to hero tutorial of getting weather/climate data from on-line repositories, plotting it on a nice map and doing some basic analytics with it. \n",
    "\n",
    "You will learn \n",
    "1. the basics of jupyter notebook environment\n",
    "2. how to read the most common gridded weather data file formats like grib and NetCDF\n",
    "3. to plot the data to maps in different projections\n",
    "4. to use GitHub, how is that useful for weather data?! \n",
    "5. On-line protocols for sharing numerical data, OpenDAP and OGC\n",
    "6. how to make some trivial computations with weather/climate data\n"
   ]
  },
  {
   "cell_type": "markdown",
   "metadata": {},
   "source": [
    "## Jupyter\n",
    "\n",
    "Jupyter -- frontend to programming languages, can be used as a replacement for command line or scripting or both. Very popular among data scientists, and growing popularity among regular scientists as well (reference?).\n",
    "\n",
    "You can create documents which combine code, data, graphics, control tools. \n",
    "\n",
    "The Jupyter Notebook is an open-source web application that allows you to create and share documents that contain live code, equations, visualizations and narrative text. Uses include: data cleaning and transformation, numerical simulation, statistical modeling, data visualization, machine learning, and much more.\n",
    "\n",
    "Essential part of python scientific/numeric ecosystem.\n",
    "\n",
    "Worksheet is divided into blocks, which can contain code or text and can be executed and organized in arbitrary order.\n",
    "\n",
    "Gallery of interesting notebooks: https://github.com/jupyter/jupyter/wiki/A-gallery-of-interesting-Jupyter-Notebooks\n",
    "\n",
    "Take a minute to create a few cells and put some code and formatted text into them"
   ]
  },
  {
   "cell_type": "markdown",
   "metadata": {},
   "source": [
    "## Gridded weather data file formats\n",
    "\n",
    "GRIB -- WMO standard to store weather/climate model output data. Very efficient, but very awkward to use. Reading is ok, with some effort, but think twice before deciding to write something to it. Best is just to convert it to NetCDF before using. Will increase the file size a bit, but otherwise almost everything is better\n",
    "\n",
    "NetCDF4 -- Standardised way (through CF conventions) of sharing weather/climate data. Technically, format is a subset of HDF5, so can be used with tools that read HDF5, but dedicated NetCDF4 tools are generally better.\n",
    "\n",
    "In conda, install packages `pygrib` and `python-netcdf4`. \n",
    "\n",
    "Download example files for global weather forecast from \n",
    "ftp://ftp.ncep.noaa.gov/pub/data/nccf/com/gfs/prod/\n"
   ]
  },
  {
   "cell_type": "markdown",
   "metadata": {},
   "source": [
    "### Exercise 1.\n",
    "Download some example files for global GFS model and list variables present in the file.\n",
    "\n",
    "`import pygrib\n",
    "ff = pygrib.open(<filename>)\n",
    "for grb in ff:\n",
    "    print(grb)`"
   ]
  },
  {
   "cell_type": "markdown",
   "metadata": {},
   "source": [
    "### Exercise 2.\n",
    "\n",
    "Download data in netCDF4 format http://silam.fmi.fi/thredds/catalog/silam_europe_v5_5/runs/catalog.html\n",
    "\n",
    "`from netCDF4 import Dataset\n",
    "fn = Dataset(<filename>)\n",
    "[i for i in fn.variables if 'temperature' in i.lower()]\n",
    "`"
   ]
  },
  {
   "cell_type": "markdown",
   "metadata": {},
   "source": [
    "## Plotting data on the map\n",
    "most universal tool is matplotlib basemap, cartopy is also powerful and possibly more advanced.\n",
    "\n",
    "install with conda\n",
    "\n",
    "In order to plot the data on the map, one has to:\n",
    "1. Set up the map https://matplotlib.org/basemap/users/mapsetup.html\n",
    "2. know the coordinates of data variable!\n",
    "3. convert the coordinates to map coordinates\n",
    "4. plot with contour, contourf, pcolormesh etc method\n",
    "\n",
    "### Exercise 3. Try to set up different map formats and use different plotting methods"
   ]
  },
  {
   "cell_type": "markdown",
   "metadata": {},
   "source": [
    "## GitHub\n",
    "Does this need introduction? \n",
    "If you have time, try to create your own account and instead of cloning this notebook, try to fork it! Then, let's try to merge everything back together, to get a better notebook for new people?"
   ]
  },
  {
   "cell_type": "markdown",
   "metadata": {},
   "source": [
    "## On-line methods for sharing data\n",
    "Most common formats for sharing metocean data is OpenDap, for other GIS data, the OGC standard (WMS, WCS, ...)\n",
    "\n",
    "You can open OpenDap data with netCDF4.Dataset, no need to use anything new.\n",
    "\n",
    "### Exercise 4. Open Metno-HARMONIE with thredds, plot current forecast on the map\n",
    "\n",
    "1. http://thredds.met.no/thredds/catalog/meps25files/catalog.html\n",
    "2. choose meps_det file\n",
    "3. choose opendap and copy the Data URL\n",
    "4. Open the URL with `Dataset` method\n",
    "5. Look at the variables\n",
    "6. Set up proper map\n",
    "7. Plot a line graph for a single location"
   ]
  },
  {
   "cell_type": "markdown",
   "metadata": {},
   "source": [
    "## Basic computations with weather/climate data\n",
    "So far we have just downloaded and visualised data. But, it is actually very easy to do a lot more.\n",
    "\n",
    "### Exercise 5. Using the Metno dataset find extreme values during the forecast period\n",
    "\n",
    "### Exercise 6. Download several timesteps for GFS forecast and use xarray to open them at once, then try to find extreme values.\n"
   ]
  },
  {
   "cell_type": "code",
   "execution_count": null,
   "metadata": {
    "collapsed": true
   },
   "outputs": [],
   "source": []
  }
 ],
 "metadata": {
  "anaconda-cloud": {},
  "kernelspec": {
   "display_name": "Python [conda root]",
   "language": "python",
   "name": "conda-root-py"
  },
  "language_info": {
   "codemirror_mode": {
    "name": "ipython",
    "version": 3
   },
   "file_extension": ".py",
   "mimetype": "text/x-python",
   "name": "python",
   "nbconvert_exporter": "python",
   "pygments_lexer": "ipython3",
   "version": "3.5.3"
  }
 },
 "nbformat": 4,
 "nbformat_minor": 2
}
